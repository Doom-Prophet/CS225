{
 "cells": [
  {
   "cell_type": "markdown",
   "metadata": {},
   "source": [
    "# CS225 Lab 1 - Intro to Python's Class & Object, Basic Datatypes Review"
   ]
  },
  {
   "cell_type": "markdown",
   "metadata": {},
   "source": [
    "### Please scan the QR code to join the wechat group ↓"
   ]
  },
  {
   "cell_type": "markdown",
   "metadata": {},
   "source": [
    "<img src='wc.jpg', width=180, height=200>"
   ]
  },
  {
   "cell_type": "markdown",
   "metadata": {},
   "source": [
    "__<li>Recall your knowledge about python from CS101, what you were doing mostly at that time is called POP (Procedure Oriented Programming). Languages such as C language supports POP very well.</li>__\n",
    "\n",
    "__<li>But features that python support is definitely more that that. One important concept when programming with python is called OOP (Object Oriented Programming), which is one of the core concepts in CS225, because it will facilitate your implementation of different data types and methods.</li>__\n",
    "\n",
    "__<li>In this lab, we will introduce you to the class and Object in python language. Besides, we will do some review on the basic data types in python such as list, tuple, set and dictionary. You will find them useful when writing code in python.</li>__"
   ]
  },
  {
   "cell_type": "markdown",
   "metadata": {},
   "source": [
    "### I. What is OOP specifically?"
   ]
  },
  {
   "cell_type": "markdown",
   "metadata": {},
   "source": [
    "<li> POP deals with programs and functions and follows top down approach. Programs are divided into functions and data is global. </li>\n",
    "<li> OOP deals with objects and their properties and follows bottom up approach. Programs are divided into objects and their interactions.</li>\n",
    "\n",
    "#### What if you want put your best friend into a safe box?\n",
    "\n",
    "<li> POP: open the safe box -> put my best friend into the safe box -> close the safe box</li>\n",
    "<li> OOP: safe_box.open() -> my_best_friend.enter_safe_box() -> safe_box.close()</li>"
   ]
  },
  {
   "cell_type": "markdown",
   "metadata": {},
   "source": [
    "### II. What is a class and what is an object?"
   ]
  },
  {
   "cell_type": "markdown",
   "metadata": {},
   "source": [
    "<li> Python is an object oriented programming language. \n",
    "Almost everything in Python is an object, with its properties and methods. \n",
    "A Class is like an object constructor, or a \"blueprint\" for creating objects.</li>\n",
    "<li>Objects are an encapsulation of variables and functions into a single entity. Objects get their variables and functions from classes. Classes are essentially a template to create your objects.</li>\n",
    "<li>e.g. Human vs Individual</li>"
   ]
  },
  {
   "cell_type": "markdown",
   "metadata": {},
   "source": [
    "### III. How do we deal with classes and objects in Python?"
   ]
  },
  {
   "cell_type": "markdown",
   "metadata": {},
   "source": [
    "#### Create a Class  \n",
    "<li>To create a class, use the keyword <b>class</b>:</li>"
   ]
  },
  {
   "cell_type": "code",
   "execution_count": 1,
   "metadata": {
    "collapsed": true
   },
   "outputs": [],
   "source": [
    "#Create a class named MyClass, with a property named x:\n",
    "class MyClass:\n",
    "    x = 5"
   ]
  },
  {
   "cell_type": "markdown",
   "metadata": {},
   "source": [
    "#### Create Object\n",
    "<li>Now we can use the class named <i>MyClass</i> to create objects:</li>"
   ]
  },
  {
   "cell_type": "code",
   "execution_count": 3,
   "metadata": {
    "scrolled": true
   },
   "outputs": [
    {
     "name": "stdout",
     "output_type": "stream",
     "text": [
      "5\n",
      "6\n"
     ]
    }
   ],
   "source": [
    "#Create an object named p1, and print the value of x:\n",
    "p1 = MyClass()\n",
    "print(p1.x) #field\n",
    "p1.x = 6\n",
    "print(p1.x) #field"
   ]
  },
  {
   "cell_type": "markdown",
   "metadata": {},
   "source": [
    "#### The \\_\\_init\\_\\_() Function\n",
    "\n",
    "<li>The examples above are classes and objects in their simplest form, and are not really useful in real life applications.\n",
    "\n",
    "To understand the meaning of classes we have to understand the built-in \\_\\_init\\_\\_() function.\n",
    "\n",
    "All classes have a function called \\_\\_init\\_\\_(), which is always executed when the class is being initiated.\n",
    "\n",
    "Use the \\_\\_init\\_\\_() function to assign values to object properties, or other operations that are necessary to do when the object is being created:</li>"
   ]
  },
  {
   "cell_type": "code",
   "execution_count": 3,
   "metadata": {},
   "outputs": [
    {
     "name": "stdout",
     "output_type": "stream",
     "text": [
      "John\n",
      "36\n"
     ]
    }
   ],
   "source": [
    "#Create a class named Person, use the __init__() function to assign values for name and age:\n",
    "class Person:\n",
    "    def __init__(self, name, age):\n",
    "        self.name = name\n",
    "        self.age = age\n",
    "\n",
    "p1 = Person(\"John\", 36)\n",
    "\n",
    "print(p1.name)\n",
    "print(p1.age)"
   ]
  },
  {
   "cell_type": "markdown",
   "metadata": {},
   "source": [
    "#### Object Methods\n",
    "<li>Objects can also contain methods. Methods in objects are functions that belong to the object.\n",
    "\n",
    "Let us create a method in the <i>Person</i> class:</li>"
   ]
  },
  {
   "cell_type": "code",
   "execution_count": 4,
   "metadata": {},
   "outputs": [
    {
     "name": "stdout",
     "output_type": "stream",
     "text": [
      "Hello, my name is John\n"
     ]
    }
   ],
   "source": [
    "#Insert a function that prints a greeting, and execute it on the p1 object:\n",
    "class Person:\n",
    "    def __init__(self, name, age):\n",
    "        self.name = name\n",
    "        self.age = age\n",
    "\n",
    "    def myfunc(self):\n",
    "        print(\"Hello, my name is \" + self.name)\n",
    "\n",
    "p1 = Person(\"John\", 36)\n",
    "p1.myfunc()"
   ]
  },
  {
   "cell_type": "markdown",
   "metadata": {},
   "source": [
    "#### The self Parameter\n",
    "<li>The <i>self</i> parameter is a reference to the current instance of the class, and is used to access variables that belongs to the class.\n",
    "    \n",
    "It does not have to be named <i>self</i>, you can call it whatever you like, but it has to be the first parameter of any function in the class:</li>"
   ]
  },
  {
   "cell_type": "code",
   "execution_count": 5,
   "metadata": {},
   "outputs": [
    {
     "name": "stdout",
     "output_type": "stream",
     "text": [
      "Hello, my name is John\n"
     ]
    }
   ],
   "source": [
    "#Use the words mysillyobject and abc instead of self:\n",
    "class Person:\n",
    "    def __init__(mysillyobject, name, age):\n",
    "        mysillyobject.name = name\n",
    "        mysillyobject.age = age\n",
    "    def myfunc(abc):\n",
    "        print(\"Hello, my name is \" + abc.name)\n",
    "\n",
    "p1 = Person(\"John\", 36)\n",
    "p1.myfunc()"
   ]
  },
  {
   "cell_type": "markdown",
   "metadata": {},
   "source": [
    "#### Modify Object Properties\n",
    "<li>You can modify properties on objects like this:</li>"
   ]
  },
  {
   "cell_type": "code",
   "execution_count": 6,
   "metadata": {},
   "outputs": [
    {
     "name": "stdout",
     "output_type": "stream",
     "text": [
      "36\n",
      "40\n"
     ]
    }
   ],
   "source": [
    "print(p1.age)\n",
    "p1.age = 40\n",
    "print(p1.age)"
   ]
  },
  {
   "cell_type": "markdown",
   "metadata": {},
   "source": [
    "#### Delete Object Properties\n",
    "<li>You can delete properties on objects by using the <b>del</b> keyword:</li>"
   ]
  },
  {
   "cell_type": "code",
   "execution_count": 7,
   "metadata": {},
   "outputs": [
    {
     "name": "stdout",
     "output_type": "stream",
     "text": [
      "40\n"
     ]
    },
    {
     "ename": "AttributeError",
     "evalue": "'Person' object has no attribute 'age'",
     "output_type": "error",
     "traceback": [
      "\u001b[1;31m---------------------------------------------------------------------------\u001b[0m",
      "\u001b[1;31mAttributeError\u001b[0m                            Traceback (most recent call last)",
      "\u001b[1;32m<ipython-input-7-a9b9b855aba5>\u001b[0m in \u001b[0;36m<module>\u001b[1;34m()\u001b[0m\n\u001b[0;32m      1\u001b[0m \u001b[0mprint\u001b[0m\u001b[1;33m(\u001b[0m\u001b[0mp1\u001b[0m\u001b[1;33m.\u001b[0m\u001b[0mage\u001b[0m\u001b[1;33m)\u001b[0m\u001b[1;33m\u001b[0m\u001b[0m\n\u001b[0;32m      2\u001b[0m \u001b[1;32mdel\u001b[0m \u001b[0mp1\u001b[0m\u001b[1;33m.\u001b[0m\u001b[0mage\u001b[0m\u001b[1;33m\u001b[0m\u001b[0m\n\u001b[1;32m----> 3\u001b[1;33m \u001b[0mprint\u001b[0m\u001b[1;33m(\u001b[0m\u001b[0mp1\u001b[0m\u001b[1;33m.\u001b[0m\u001b[0mage\u001b[0m\u001b[1;33m)\u001b[0m  \u001b[1;31m# Show that the properties is deleted at this point\u001b[0m\u001b[1;33m\u001b[0m\u001b[0m\n\u001b[0m",
      "\u001b[1;31mAttributeError\u001b[0m: 'Person' object has no attribute 'age'"
     ]
    }
   ],
   "source": [
    "print(p1.age)\n",
    "del p1.age\n",
    "print(p1.age)  # Show that the properties is deleted at this point"
   ]
  },
  {
   "cell_type": "markdown",
   "metadata": {},
   "source": [
    "#### Delete Objects\n",
    "<li>You can delete objects by using the <b>del</b> keyword:</li>"
   ]
  },
  {
   "cell_type": "code",
   "execution_count": 4,
   "metadata": {},
   "outputs": [
    {
     "name": "stdout",
     "output_type": "stream",
     "text": [
      "<__main__.MyClass object at 0x0000019850929E10>\n"
     ]
    },
    {
     "ename": "NameError",
     "evalue": "name 'p1' is not defined",
     "output_type": "error",
     "traceback": [
      "\u001b[1;31m---------------------------------------------------------------------------\u001b[0m",
      "\u001b[1;31mNameError\u001b[0m                                 Traceback (most recent call last)",
      "\u001b[1;32m<ipython-input-4-04f083600502>\u001b[0m in \u001b[0;36m<module>\u001b[1;34m()\u001b[0m\n\u001b[0;32m      1\u001b[0m \u001b[0mprint\u001b[0m\u001b[1;33m(\u001b[0m\u001b[0mp1\u001b[0m\u001b[1;33m)\u001b[0m\u001b[1;33m\u001b[0m\u001b[0m\n\u001b[0;32m      2\u001b[0m \u001b[1;32mdel\u001b[0m \u001b[0mp1\u001b[0m\u001b[1;33m\u001b[0m\u001b[0m\n\u001b[1;32m----> 3\u001b[1;33m \u001b[0mprint\u001b[0m\u001b[1;33m(\u001b[0m\u001b[0mp1\u001b[0m\u001b[1;33m)\u001b[0m  \u001b[1;31m# Show that the object is deleted at this point\u001b[0m\u001b[1;33m\u001b[0m\u001b[0m\n\u001b[0m",
      "\u001b[1;31mNameError\u001b[0m: name 'p1' is not defined"
     ]
    }
   ],
   "source": [
    "print(p1)\n",
    "del p1\n",
    "print(p1)  # Show that the object is deleted at this point"
   ]
  },
  {
   "cell_type": "markdown",
   "metadata": {},
   "source": [
    "#### The pass Statement\n",
    "<li>class definitions cannot be empty, but if you for some reason have a class definition with no content, put in the <b>pass</b> statement to avoid getting an error.</li>"
   ]
  },
  {
   "cell_type": "code",
   "execution_count": 10,
   "metadata": {},
   "outputs": [
    {
     "name": "stdout",
     "output_type": "stream",
     "text": [
      "6\n",
      "666\n"
     ]
    }
   ],
   "source": [
    "class Person:\n",
    "    x = 5\n",
    "\n",
    "p1 = Person()\n",
    "p1.y = 6\n",
    "print(p1.y)\n",
    "\n",
    "del p1.y\n",
    "\n",
    "p1.y = 666\n",
    "print(p1.y)"
   ]
  },
  {
   "cell_type": "code",
   "execution_count": 11,
   "metadata": {
    "collapsed": true
   },
   "outputs": [],
   "source": [
    "class Person:\n",
    "    pass"
   ]
  },
  {
   "cell_type": "markdown",
   "metadata": {},
   "source": [
    "## Review of Basic Data Types in Python (built-in classes in python)"
   ]
  },
  {
   "cell_type": "markdown",
   "metadata": {},
   "source": [
    "### 1. List  \n",
    "You can change the value, add or delete an item from a list.\n",
    "##### Add Items:  \n",
    "difference between **append()** and **extend()** and **insert()**. What do these functions return?"
   ]
  },
  {
   "cell_type": "code",
   "execution_count": 12,
   "metadata": {},
   "outputs": [
    {
     "name": "stdout",
     "output_type": "stream",
     "text": [
      "None\n",
      "['apple', 'banana', 'cherry', 'orange']\n"
     ]
    }
   ],
   "source": [
    "thislist = [\"apple\", \"banana\", \"cherry\"]\n",
    "# Using the append() method to append an item in the end:\n",
    "print(thislist.append(\"orange\"))\n",
    "print(thislist)"
   ]
  },
  {
   "cell_type": "code",
   "execution_count": 13,
   "metadata": {},
   "outputs": [
    {
     "name": "stdout",
     "output_type": "stream",
     "text": [
      "None\n",
      "['apple', 'banana', 'cherry', 'orange', 'grapes']\n"
     ]
    }
   ],
   "source": [
    "# Use the extend() method to add list2 at the end of list1:\n",
    "print(thislist.extend(['grapes']))\n",
    "print(thislist)"
   ]
  },
  {
   "cell_type": "code",
   "execution_count": 14,
   "metadata": {},
   "outputs": [
    {
     "name": "stdout",
     "output_type": "stream",
     "text": [
      "['apple', 'orange', 'banana', 'cherry']\n"
     ]
    }
   ],
   "source": [
    "# Insert an item as the second position:\n",
    "thislist = [\"apple\", \"banana\", \"cherry\"]\n",
    "thislist.insert(1, \"orange\")\n",
    "print(thislist)"
   ]
  },
  {
   "cell_type": "markdown",
   "metadata": {},
   "source": [
    "##### Remove Items:  "
   ]
  },
  {
   "cell_type": "code",
   "execution_count": 15,
   "metadata": {},
   "outputs": [
    {
     "name": "stdout",
     "output_type": "stream",
     "text": [
      "['apple', 'cherry']\n"
     ]
    }
   ],
   "source": [
    "# The remove() method removes the specified item\n",
    "thislist = [\"apple\", \"banana\", \"cherry\"]\n",
    "thislist.remove(\"banana\")\n",
    "print(thislist)"
   ]
  },
  {
   "cell_type": "code",
   "execution_count": 16,
   "metadata": {},
   "outputs": [
    {
     "name": "stdout",
     "output_type": "stream",
     "text": [
      "['apple', 'banana']\n"
     ]
    }
   ],
   "source": [
    "# The pop() method removes the specified index, (or the last item if index is not specified):\n",
    "thislist = [\"apple\", \"banana\", \"cherry\"]\n",
    "thislist.pop()\n",
    "print(thislist)"
   ]
  },
  {
   "cell_type": "code",
   "execution_count": 19,
   "metadata": {},
   "outputs": [
    {
     "name": "stdout",
     "output_type": "stream",
     "text": [
      "apple\n",
      "['banana', 'cherry']\n"
     ]
    }
   ],
   "source": [
    "thislist = [\"apple\", \"banana\", \"cherry\"]\n",
    "print(thislist.pop(0))\n",
    "print(thislist)"
   ]
  },
  {
   "cell_type": "code",
   "execution_count": 20,
   "metadata": {},
   "outputs": [
    {
     "name": "stdout",
     "output_type": "stream",
     "text": [
      "['banana', 'cherry']\n"
     ]
    }
   ],
   "source": [
    "# The del keyword removes the specified index:\n",
    "thislist = [\"apple\", \"banana\", \"cherry\"]\n",
    "del thislist[0]\n",
    "print(thislist)"
   ]
  },
  {
   "cell_type": "markdown",
   "metadata": {},
   "source": [
    "##### Join Two Lists"
   ]
  },
  {
   "cell_type": "code",
   "execution_count": 21,
   "metadata": {},
   "outputs": [
    {
     "name": "stdout",
     "output_type": "stream",
     "text": [
      "['a', 'b', 'c', 1, 2, 3]\n",
      "['a', 'b', 'c', 1, 2, 3]\n"
     ]
    }
   ],
   "source": [
    "list1 = [\"a\", \"b\" , \"c\"]\n",
    "list2 = [1, 2, 3]\n",
    "# Method 1:\n",
    "list3 = list1 + list2\n",
    "print(list3)\n",
    "# Method 2:\n",
    "list1.extend(list2)\n",
    "print(list1)"
   ]
  },
  {
   "cell_type": "markdown",
   "metadata": {},
   "source": [
    "<li> <b>Inherit</b> from the built-in list class to create our own pylist class</li>"
   ]
  },
  {
   "cell_type": "code",
   "execution_count": 80,
   "metadata": {},
   "outputs": [
    {
     "name": "stdout",
     "output_type": "stream",
     "text": [
      "[]\n",
      "asdsadasda\n",
      "True\n",
      "True\n",
      "True\n",
      "False\n"
     ]
    }
   ],
   "source": [
    "class PyList(list):\n",
    "    def __init__(self,contents=[],size=20):\n",
    "        self.items = [None] * size\n",
    "        self.numItems = 0\n",
    "        self.size = size\n",
    "        for e in contents:\n",
    "            self.append(e)\n",
    "            \n",
    "    def __contains__(self,item):\n",
    "        for i in range(self.numItems):\n",
    "            if self.items[i] == item:\n",
    "                return True\n",
    "        return False\n",
    "\n",
    "    def __eq__(self,other):\n",
    "        if type(other) != type(self):\n",
    "            return False\n",
    "        if self.numItems != other.numItems:\n",
    "            return False\n",
    "        for i in range(self.numItems):\n",
    "            if self.items[i] != other.items[i]:\n",
    "                return False\n",
    "        return True\n",
    "    \n",
    "    def __setitem__(self,index,val):\n",
    "        if index >= 0 and index < self.numItems:\n",
    "            self.items[index] = val\n",
    "            return\n",
    "        raise IndexError(\"PyList assignment index out of range\")\n",
    "\n",
    "    def __getitem__(self,index):\n",
    "        if index >= 0 and index < self.numItems:\n",
    "            return self.items[index]\n",
    "        raise IndexError(\"PyList index out of range\")\n",
    "    \n",
    "    def append(self,item):\n",
    "        if self.numItems == self.size:\n",
    "            self.allocate()\n",
    "        self.items[self.numItems] = item\n",
    "        self.numItems += 1\n",
    "        \n",
    "    def allocate(self):\n",
    "        newlength = 2 * self.size\n",
    "        newList = [None] * newlength\n",
    "        for i in range(self.numItems):\n",
    "            newList[i] = self.items[i]\n",
    "        self.items = newList\n",
    "        self.size = newlength\n",
    "    \n",
    "a = PyList([1,2,3,4],10)\n",
    "b = PyList([1,2,3,4],10)\n",
    "c = PyList([1,2,3,4],8)\n",
    "d = PyList([1,2,3,4,5],10)\n",
    "print(a.items)\n",
    "print(a.numItems)\n",
    "print(a.__eq__(b))\n",
    "print(b.__eq__(c))\n",
    "print(a.__eq__(d))"
   ]
  },
  {
   "cell_type": "markdown",
   "metadata": {},
   "source": [
    "### 2. Tuple\n",
    "Once a tuple is created, you **cannot change** its values. Tuples are **unchangeable**.  \n",
    "You can convert the tuple into a **list**, change the list, and **convert** the list back into a tuple."
   ]
  },
  {
   "cell_type": "code",
   "execution_count": 22,
   "metadata": {},
   "outputs": [
    {
     "ename": "TypeError",
     "evalue": "'tuple' object does not support item assignment",
     "output_type": "error",
     "traceback": [
      "\u001b[1;31m---------------------------------------------------------------------------\u001b[0m",
      "\u001b[1;31mTypeError\u001b[0m                                 Traceback (most recent call last)",
      "\u001b[1;32m<ipython-input-22-9674fcf12d06>\u001b[0m in \u001b[0;36m<module>\u001b[1;34m()\u001b[0m\n\u001b[0;32m      1\u001b[0m \u001b[1;31m# will have an error\u001b[0m\u001b[1;33m\u001b[0m\u001b[1;33m\u001b[0m\u001b[0m\n\u001b[0;32m      2\u001b[0m \u001b[0mthistuple\u001b[0m \u001b[1;33m=\u001b[0m \u001b[1;33m(\u001b[0m\u001b[1;34m\"apple\"\u001b[0m\u001b[1;33m,\u001b[0m \u001b[1;34m\"banana\"\u001b[0m\u001b[1;33m,\u001b[0m \u001b[1;34m\"cherry\"\u001b[0m\u001b[1;33m)\u001b[0m\u001b[1;33m\u001b[0m\u001b[0m\n\u001b[1;32m----> 3\u001b[1;33m \u001b[0mthistuple\u001b[0m\u001b[1;33m[\u001b[0m\u001b[1;36m3\u001b[0m\u001b[1;33m]\u001b[0m \u001b[1;33m=\u001b[0m \u001b[1;34m\"orange\"\u001b[0m \u001b[1;31m# This will raise an error\u001b[0m\u001b[1;33m\u001b[0m\u001b[0m\n\u001b[0m\u001b[0;32m      4\u001b[0m \u001b[0mprint\u001b[0m\u001b[1;33m(\u001b[0m\u001b[0mthistuple\u001b[0m\u001b[1;33m)\u001b[0m\u001b[1;33m\u001b[0m\u001b[0m\n",
      "\u001b[1;31mTypeError\u001b[0m: 'tuple' object does not support item assignment"
     ]
    }
   ],
   "source": [
    "# will have an error\n",
    "thistuple = (\"apple\", \"banana\", \"cherry\")\n",
    "thistuple[3] = \"orange\" # This will raise an error\n",
    "print(thistuple)"
   ]
  },
  {
   "cell_type": "code",
   "execution_count": 24,
   "metadata": {},
   "outputs": [
    {
     "name": "stdout",
     "output_type": "stream",
     "text": [
      "['apple', 'banana', 'cherry']\n",
      "('apple', 'kiwi', 'cherry')\n"
     ]
    }
   ],
   "source": [
    "x = (\"apple\", \"banana\", \"cherry\")\n",
    "y = list(x)\n",
    "print(y)\n",
    "y[1] = \"kiwi\"\n",
    "x = tuple(y)\n",
    "\n",
    "print(x)"
   ]
  },
  {
   "cell_type": "markdown",
   "metadata": {},
   "source": [
    "**count()**: Returns the number of times a specified value occurs in a tuple.  \n",
    "**index()**:  Searches the tuple for a specified value and returns the **first** position of where it was found."
   ]
  },
  {
   "cell_type": "code",
   "execution_count": 27,
   "metadata": {},
   "outputs": [
    {
     "name": "stdout",
     "output_type": "stream",
     "text": [
      "4\n",
      "1\n"
     ]
    }
   ],
   "source": [
    "x = (2,1,1,2,2,2,3)\n",
    "print(x.count(2))\n",
    "print(x.index(1))"
   ]
  },
  {
   "cell_type": "markdown",
   "metadata": {},
   "source": [
    "### 3. Set\n",
    "A set is a collection which is unordered and unindexed. In Python sets are written with curly brackets **{ }**."
   ]
  },
  {
   "cell_type": "code",
   "execution_count": 28,
   "metadata": {},
   "outputs": [
    {
     "name": "stdout",
     "output_type": "stream",
     "text": [
      "True\n",
      "False\n"
     ]
    }
   ],
   "source": [
    "# Check if \"banana\" is present in the set:\n",
    "thisset = {\"apple\", \"banana\", \"cherry\"}\n",
    "print(\"banana\" in thisset)\n",
    "print(\"peach\" in thisset)"
   ]
  },
  {
   "cell_type": "markdown",
   "metadata": {},
   "source": [
    "##### Add Items: \n",
    "Once a set is created, you **cannot change** its items, but you can **add** new items:"
   ]
  },
  {
   "cell_type": "code",
   "execution_count": 31,
   "metadata": {},
   "outputs": [
    {
     "name": "stdout",
     "output_type": "stream",
     "text": [
      "{'apple', 'banana', 'orange', 'cherry'}\n"
     ]
    }
   ],
   "source": [
    "# Add an item to a set, using the add() method:\n",
    "\n",
    "thisset = {\"apple\", \"banana\", \"cherry\"}\n",
    "\n",
    "thisset.add(\"orange\")\n",
    "\n",
    "print(thisset)"
   ]
  },
  {
   "cell_type": "code",
   "execution_count": null,
   "metadata": {
    "collapsed": true
   },
   "outputs": [],
   "source": [
    "# Add multiple items to a set, using the update() method:\n",
    "\n",
    "thisset = {\"apple\", \"banana\", \"cherry\"}\n",
    "\n",
    "thisset.update([\"orange\", \"mango\", \"grapes\"])\n",
    "\n",
    "print(thisset)"
   ]
  },
  {
   "cell_type": "markdown",
   "metadata": {},
   "source": [
    "##### Remove Items:   Methods remove(), discard(), or pop()"
   ]
  },
  {
   "cell_type": "code",
   "execution_count": 32,
   "metadata": {},
   "outputs": [
    {
     "name": "stdout",
     "output_type": "stream",
     "text": [
      "{'apple', 'cherry'}\n",
      "{'cherry'}\n"
     ]
    }
   ],
   "source": [
    "# Method 1 - Remove \"banana\" by using the remove() method:\n",
    "\n",
    "thisset = {\"apple\", \"banana\", \"cherry\"}\n",
    "\n",
    "thisset.remove(\"banana\")\n",
    "\n",
    "print(thisset)\n",
    "\n",
    "# Method 2 - Remove \"banana\" by using the discard() method:\n",
    "\n",
    "thisset.discard(\"apple\")\n",
    "\n",
    "print(thisset)"
   ]
  },
  {
   "cell_type": "markdown",
   "metadata": {},
   "source": [
    "You can also use the **pop()**, method to remove an item, but this method will remove the last item.\n",
    "\n",
    "**Remember that sets are unordered, so you will not know what item that gets removed.**\n",
    "\n",
    "The **return value** of the pop() method is the removed item."
   ]
  },
  {
   "cell_type": "code",
   "execution_count": 33,
   "metadata": {},
   "outputs": [
    {
     "name": "stdout",
     "output_type": "stream",
     "text": [
      "apple\n",
      "{'banana', 'cherry'}\n"
     ]
    }
   ],
   "source": [
    "# Method 3\n",
    "thisset = {\"apple\", \"banana\", \"cherry\"}\n",
    "\n",
    "x = thisset.pop()\n",
    "\n",
    "print(x)\n",
    "\n",
    "print(thisset)"
   ]
  },
  {
   "cell_type": "markdown",
   "metadata": {},
   "source": [
    "##### Empty set:   Methods clear() or del keyword  \n",
    "What is the difference between these two?"
   ]
  },
  {
   "cell_type": "code",
   "execution_count": 34,
   "metadata": {},
   "outputs": [
    {
     "name": "stdout",
     "output_type": "stream",
     "text": [
      "set()\n"
     ]
    }
   ],
   "source": [
    "#The clear() method empties the set:\n",
    "\n",
    "thisset = {\"apple\", \"banana\", \"cherry\"}\n",
    "\n",
    "thisset.clear()\n",
    "\n",
    "print(thisset)"
   ]
  },
  {
   "cell_type": "code",
   "execution_count": 35,
   "metadata": {},
   "outputs": [
    {
     "ename": "NameError",
     "evalue": "name 'thisset' is not defined",
     "output_type": "error",
     "traceback": [
      "\u001b[1;31m---------------------------------------------------------------------------\u001b[0m",
      "\u001b[1;31mNameError\u001b[0m                                 Traceback (most recent call last)",
      "\u001b[1;32m<ipython-input-35-abfe020540e9>\u001b[0m in \u001b[0;36m<module>\u001b[1;34m()\u001b[0m\n\u001b[0;32m      5\u001b[0m \u001b[1;32mdel\u001b[0m \u001b[0mthisset\u001b[0m\u001b[1;33m\u001b[0m\u001b[0m\n\u001b[0;32m      6\u001b[0m \u001b[1;33m\u001b[0m\u001b[0m\n\u001b[1;32m----> 7\u001b[1;33m \u001b[0mprint\u001b[0m\u001b[1;33m(\u001b[0m\u001b[0mthisset\u001b[0m\u001b[1;33m)\u001b[0m\u001b[1;33m\u001b[0m\u001b[0m\n\u001b[0m",
      "\u001b[1;31mNameError\u001b[0m: name 'thisset' is not defined"
     ]
    }
   ],
   "source": [
    "# The del keyword will delete the set completely:\n",
    "\n",
    "thisset = {\"apple\", \"banana\", \"cherry\"}\n",
    "\n",
    "del thisset\n",
    "\n",
    "print(thisset)"
   ]
  },
  {
   "cell_type": "markdown",
   "metadata": {},
   "source": [
    "##### Join two sets:   union() or update()\n",
    "You can use the union() method that returns a new set containing all items from both sets, or the update() method that inserts all the items from one set into another. **Both union() and update() will exclude any duplicate items.**"
   ]
  },
  {
   "cell_type": "code",
   "execution_count": 36,
   "metadata": {},
   "outputs": [
    {
     "name": "stdout",
     "output_type": "stream",
     "text": [
      "{'c', 1, 2, 3, 'b', 'a'}\n",
      "{'c', 1, 2, 3, 'b', 'a'}\n"
     ]
    }
   ],
   "source": [
    "# union method\n",
    "set1 = {\"a\", \"b\" , \"c\"}\n",
    "set2 = {\"a\",1, 2, 3}\n",
    "\n",
    "set3 = set1.union(set2)\n",
    "print(set3)\n",
    "\n",
    "# update method\n",
    "set1.update(set2)\n",
    "print(set1)"
   ]
  },
  {
   "cell_type": "markdown",
   "metadata": {},
   "source": [
    "##### intersection(), difference() of two sets"
   ]
  },
  {
   "cell_type": "code",
   "execution_count": 37,
   "metadata": {},
   "outputs": [
    {
     "name": "stdout",
     "output_type": "stream",
     "text": [
      "{'a'}\n",
      "{'c', 'b'}\n",
      "{1, 2, 3}\n"
     ]
    }
   ],
   "source": [
    "# intersection\n",
    "set1 = {\"a\", \"b\" , \"c\"}\n",
    "set2 = {\"a\",1, 2, 3}\n",
    "\n",
    "set3 = set1.intersection(set2)\n",
    "print(set3)\n",
    "\n",
    "# difference\n",
    "set1 = {\"a\", \"b\" , \"c\"}\n",
    "set2 = {\"a\",1, 2, 3}\n",
    "\n",
    "set3 = set1.difference(set2)\n",
    "print(set3)\n",
    "\n",
    "set3 = set2.difference(set1)\n",
    "print(set3)"
   ]
  },
  {
   "cell_type": "markdown",
   "metadata": {},
   "source": [
    "### 4.Dictionary\n",
    "A dictionary is a collection which is **unordered, changeable and indexed**.   "
   ]
  },
  {
   "cell_type": "code",
   "execution_count": 38,
   "metadata": {},
   "outputs": [
    {
     "name": "stdout",
     "output_type": "stream",
     "text": [
      "{'brand': 'Ford', 'model': 'Mustang', 'year': 1964}\n",
      "{'brand': 'Ford', 'model': 'Mustang', 'year': 1964}\n"
     ]
    }
   ],
   "source": [
    "# Create and print a dictionary:\n",
    "\n",
    "thisdict =\t{\n",
    "  \"brand\": \"Ford\",\n",
    "  \"model\": \"Mustang\",\n",
    "  \"year\": 1964\n",
    "}\n",
    "print(thisdict)\n",
    "\n",
    "# Another way to do that:\n",
    "thisdict =\tdict(brand=\"Ford\", model=\"Mustang\", year=1964)\n",
    "# note that keywords are not string literals\n",
    "# note the use of equals rather than colon for the assignment\n",
    "print(thisdict)"
   ]
  },
  {
   "cell_type": "code",
   "execution_count": 39,
   "metadata": {},
   "outputs": [
    {
     "name": "stdout",
     "output_type": "stream",
     "text": [
      "Mustang\n"
     ]
    }
   ],
   "source": [
    "# Get the value of the \"model\" key:\n",
    "x = thisdict[\"model\"]\n",
    "print(x)"
   ]
  },
  {
   "cell_type": "code",
   "execution_count": 40,
   "metadata": {},
   "outputs": [
    {
     "name": "stdout",
     "output_type": "stream",
     "text": [
      "Mustang\n"
     ]
    }
   ],
   "source": [
    "# another way to do that:\n",
    "x = thisdict.get(\"model\")\n",
    "print(x)"
   ]
  },
  {
   "cell_type": "code",
   "execution_count": 41,
   "metadata": {},
   "outputs": [
    {
     "name": "stdout",
     "output_type": "stream",
     "text": [
      "{'brand': 'Ford', 'model': 'Mustang', 'year': 2018}\n"
     ]
    }
   ],
   "source": [
    "# Change the \"year\" to 2018:\n",
    "\n",
    "thisdict[\"year\"] = 2018\n",
    "print(thisdict)"
   ]
  },
  {
   "cell_type": "code",
   "execution_count": 45,
   "metadata": {},
   "outputs": [
    {
     "name": "stdout",
     "output_type": "stream",
     "text": [
      "<class 'dict_keys'>\n",
      "dict_values(['Ford', 'Mustang', 2018])\n",
      "dict_items([('brand', 'Ford'), ('model', 'Mustang'), ('year', 2018)])\n"
     ]
    }
   ],
   "source": [
    "# key, value and item\n",
    "print(type(thisdict.keys()))\n",
    "print(thisdict.values())\n",
    "print(thisdict.items())"
   ]
  },
  {
   "cell_type": "markdown",
   "metadata": {},
   "source": [
    "##### Add Items"
   ]
  },
  {
   "cell_type": "code",
   "execution_count": 46,
   "metadata": {},
   "outputs": [
    {
     "name": "stdout",
     "output_type": "stream",
     "text": [
      "{'brand': 'Ford', 'model': 'Mustang', 'year': 1964, 'color': 'red'}\n"
     ]
    }
   ],
   "source": [
    "thisdict =\t{\n",
    "  \"brand\": \"Ford\",\n",
    "  \"model\": \"Mustang\",\n",
    "  \"year\": 1964\n",
    "}\n",
    "thisdict[\"color\"] = \"red\"\n",
    "print(thisdict)"
   ]
  },
  {
   "cell_type": "markdown",
   "metadata": {},
   "source": [
    "##### Remove Items: pop(), del keyword or clear()"
   ]
  },
  {
   "cell_type": "code",
   "execution_count": 51,
   "metadata": {},
   "outputs": [
    {
     "name": "stdout",
     "output_type": "stream",
     "text": [
      "Mustang\n",
      "{'brand': 'Ford', 'year': 1964}\n"
     ]
    }
   ],
   "source": [
    "# The pop() method removes the item with the specified key name:\n",
    "\n",
    "thisdict =\t{\n",
    "  \"brand\": \"Ford\",\n",
    "  \"model\": \"Mustang\",\n",
    "  \"year\": 1964\n",
    "}\n",
    "print(thisdict.pop(\"model\"))\n",
    "print(thisdict)"
   ]
  },
  {
   "cell_type": "code",
   "execution_count": 48,
   "metadata": {},
   "outputs": [
    {
     "name": "stdout",
     "output_type": "stream",
     "text": [
      "{'brand': 'Ford', 'year': 1964}\n"
     ]
    }
   ],
   "source": [
    "# The del keyword removes the item with the specified key name:\n",
    "\n",
    "thisdict =\t{\n",
    "  \"brand\": \"Ford\",\n",
    "  \"model\": \"Mustang\",\n",
    "  \"year\": 1964\n",
    "}\n",
    "del thisdict[\"model\"]\n",
    "print(thisdict)"
   ]
  },
  {
   "cell_type": "code",
   "execution_count": 49,
   "metadata": {},
   "outputs": [
    {
     "ename": "NameError",
     "evalue": "name 'thisdict' is not defined",
     "output_type": "error",
     "traceback": [
      "\u001b[1;31m---------------------------------------------------------------------------\u001b[0m",
      "\u001b[1;31mNameError\u001b[0m                                 Traceback (most recent call last)",
      "\u001b[1;32m<ipython-input-49-c3473a297a1c>\u001b[0m in \u001b[0;36m<module>\u001b[1;34m()\u001b[0m\n\u001b[0;32m      7\u001b[0m }\n\u001b[0;32m      8\u001b[0m \u001b[1;32mdel\u001b[0m \u001b[0mthisdict\u001b[0m\u001b[1;33m\u001b[0m\u001b[0m\n\u001b[1;32m----> 9\u001b[1;33m \u001b[0mprint\u001b[0m\u001b[1;33m(\u001b[0m\u001b[0mthisdict\u001b[0m\u001b[1;33m)\u001b[0m \u001b[1;31m#this will cause an error because \"thisdict\" no longer exists.\u001b[0m\u001b[1;33m\u001b[0m\u001b[0m\n\u001b[0m",
      "\u001b[1;31mNameError\u001b[0m: name 'thisdict' is not defined"
     ]
    }
   ],
   "source": [
    "# The del keyword can also delete the dictionary completely:\n",
    "\n",
    "thisdict =\t{\n",
    "  \"brand\": \"Ford\",\n",
    "  \"model\": \"Mustang\",\n",
    "  \"year\": 1964\n",
    "}\n",
    "del thisdict\n",
    "print(thisdict) #this will cause an error because \"thisdict\" no longer exists."
   ]
  },
  {
   "cell_type": "code",
   "execution_count": 52,
   "metadata": {},
   "outputs": [
    {
     "name": "stdout",
     "output_type": "stream",
     "text": [
      "{}\n"
     ]
    }
   ],
   "source": [
    "# The clear() keyword empties the dictionary:\n",
    "\n",
    "thisdict =\t{\n",
    "  \"brand\": \"Ford\",\n",
    "  \"model\": \"Mustang\",\n",
    "  \"year\": 1964\n",
    "}\n",
    "thisdict.clear()\n",
    "print(thisdict)"
   ]
  },
  {
   "cell_type": "markdown",
   "metadata": {},
   "source": [
    "### something interesting - shallow copy and deep copy"
   ]
  },
  {
   "cell_type": "code",
   "execution_count": 53,
   "metadata": {},
   "outputs": [
    {
     "name": "stdout",
     "output_type": "stream",
     "text": [
      "[1, 2, 3]\n",
      "[1, 2, 0]\n"
     ]
    }
   ],
   "source": [
    "import numpy as np\n",
    "a = [1,2,3]\n",
    "b = a\n",
    "print(b)\n",
    "b[-1] = 0\n",
    "print(a)"
   ]
  },
  {
   "cell_type": "code",
   "execution_count": 59,
   "metadata": {},
   "outputs": [
    {
     "name": "stdout",
     "output_type": "stream",
     "text": [
      "[ 0  1  2  3  4  5  6  7  8  9 10 11]\n",
      "[[ 0  1  2  3  4  5]\n",
      " [ 6  7  8  9 10 11]]\n",
      "False\n",
      "True\n",
      "1753703151136\n",
      "1753703151856\n"
     ]
    }
   ],
   "source": [
    "a = np.array(range(12))\n",
    "b = a.view()                      # b is a view of a's data, shallow copy\n",
    "b.shape = 2,6\n",
    "print(a)\n",
    "print(b)\n",
    "print(b is a)\n",
    "print(b.base is a)\n"
   ]
  },
  {
   "cell_type": "code",
   "execution_count": 57,
   "metadata": {},
   "outputs": [
    {
     "name": "stdout",
     "output_type": "stream",
     "text": [
      "[     0      1      2      3 987456      5      6      7      8      9\n",
      "     10     11]\n"
     ]
    }
   ],
   "source": [
    "b[0,4] = 987456\n",
    "print(a)"
   ]
  },
  {
   "cell_type": "code",
   "execution_count": 62,
   "metadata": {},
   "outputs": [
    {
     "name": "stdout",
     "output_type": "stream",
     "text": [
      "[[ 1  2  3  4]\n",
      " [ 5  6  7  8]\n",
      " [ 9 10 11 12]]\n",
      "[[ 2  3]\n",
      " [ 6  7]\n",
      " [10 11]]\n",
      "[[   1 6666    3    4]\n",
      " [   5    6    7    8]\n",
      " [   9   10   11   12]]\n"
     ]
    }
   ],
   "source": [
    "a = np.array([[1,2,3,4],[5,6,7,8],[9,10,11,12]])\n",
    "b = a[:,1:3]\n",
    "print(a)\n",
    "print(b)\n",
    "b[0,0] = 6666\n",
    "print(a)           #slice is also shallow copy"
   ]
  },
  {
   "cell_type": "code",
   "execution_count": 63,
   "metadata": {},
   "outputs": [
    {
     "name": "stdout",
     "output_type": "stream",
     "text": [
      "[ 0  1  2  3  4  5  6  7  8  9 10 11]\n",
      "[[ 0  1  2  3  4  5]\n",
      " [ 6  7  8  9 10 11]]\n",
      "False\n",
      "False\n"
     ]
    }
   ],
   "source": [
    "a = np.array(range(12))\n",
    "b = a.copy()                      # deep copy\n",
    "b.shape = 2,6\n",
    "print(a)\n",
    "print(b)\n",
    "print(b is a)\n",
    "print(b.base is a)"
   ]
  },
  {
   "cell_type": "code",
   "execution_count": 64,
   "metadata": {},
   "outputs": [
    {
     "name": "stdout",
     "output_type": "stream",
     "text": [
      "[ 0  1  2  3  4  5  6  7  8  9 10 11]\n"
     ]
    }
   ],
   "source": [
    "b[0,4] = 987456\n",
    "print(a)"
   ]
  }
 ],
 "metadata": {
  "kernelspec": {
   "display_name": "Python 3",
   "language": "python",
   "name": "python3"
  },
  "language_info": {
   "codemirror_mode": {
    "name": "ipython",
    "version": 3
   },
   "file_extension": ".py",
   "mimetype": "text/x-python",
   "name": "python",
   "nbconvert_exporter": "python",
   "pygments_lexer": "ipython3",
   "version": "3.6.5"
  }
 },
 "nbformat": 4,
 "nbformat_minor": 2
}
