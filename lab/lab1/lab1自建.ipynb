{
 "cells": [
  {
   "cell_type": "code",
   "execution_count": 13,
   "metadata": {},
   "outputs": [],
   "source": [
    "#We can start defining the class PyList as a subclass of list with a constructor method\n",
    "class PyList():\n",
    "    def __init__(self,contents=[],size=20):\n",
    "        self.items = [None] * size \n",
    "        self.numItems = 0 \n",
    "        self.size = size\n",
    "        for e in contents:\n",
    "            self.append(e)\n",
    "    def __contains__(self,item):\n",
    "        for i in range(self.numItems):\n",
    "            if self.items[i] == item: \n",
    "                return True\n",
    "        return False \n",
    "    def __eq__(self,other):\n",
    "        if type(other) != type(self):\n",
    "            return False\n",
    "        if self.numItems != other.numItems: \n",
    "            return False\n",
    "        for i in range(self.numItems):\n",
    "            if self.items[i] != other.items[i]:\n",
    "                return False\n",
    "        return True\n",
    "    def __setitem__(self,index,val):\n",
    "        if index >= 0 and index < self.numItems:\n",
    "            self.items[index] = val\n",
    "            return\n",
    "        raise IndexError(\"PyList assignment index out of range\")\n",
    "    def __getitem__(self,index):\n",
    "        if index >= 0 and index < self.numItems:\n",
    "            return self.items[index]\n",
    "        raise IndexError(\"PyList index out of range\")\n",
    "    def append(self,item):\n",
    "        if self.numItems == self.size:\n",
    "            self.allocate() \n",
    "        self.items[self.numItems] = item \n",
    "        self.numItems += 1\n",
    "    def allocate(self):\n",
    "        newlength = 2 * self.size \n",
    "        newList = [None] * newlength \n",
    "        for i in range(self.numItems):\n",
    "            newList[i] = self.items[i] \n",
    "        self.items = newList\n",
    "        self.size = newlength\n",
    "    def insert(self,i,x):\n",
    "        if self.numItems == self.size:\n",
    "            self.allocate() \n",
    "        if i < self.numItems:\n",
    "            for j in range(self.numItems-1,i-1,-1): \n",
    "                self.items[j+1] = self.items[j]\n",
    "            self.items[i] = x\n",
    "            self.numItems += 1\n",
    "        else:\n",
    "            self.append(x)\n",
    "        print(self.items)\n",
    "    def delete(self,index):\n",
    "        if self.numItems == self.size / 4:\n",
    "            self.deallocate() # Just to make sure the list is efficiently used\n",
    "        if index < self.numItems:\n",
    "            for j in range(index,self.numItems): \n",
    "                self.items[j] = self.items[j+1]\n",
    "            self.numItems -= 1 \n",
    "            print(self.items)\n",
    "        else:\n",
    "            raise IndexError(\"PyList index out of range\")    \n",
    "    def deallocate(self):\n",
    "        newlength = int(self.size / 2 )\n",
    "        newList = [None] * newlength \n",
    "        for i in range(self.numItems):\n",
    "            newList[i] = self.items[i] \n",
    "        self.items = newList\n",
    "        self.size = newlength"
   ]
  },
  {
   "cell_type": "code",
   "execution_count": 6,
   "metadata": {},
   "outputs": [
    {
     "name": "stdout",
     "output_type": "stream",
     "text": [
      "[0, 1, 2, 3, 4, 5, 6, 7, 8, 9, None, None, None, None, None, None, None, None, None, None]\n",
      "[0, 1, 2, 3, 4, 5, 6, 7, 8, 9]\n"
     ]
    }
   ],
   "source": [
    "#1(i)\n",
    "Mylist = PyList(list(range(10)))\n",
    "print(Mylist.items) #由于定义size=20，所以不加修改的话会默认是20\n",
    "Mylist = PyList(list(range(10)),10)\n",
    "print(Mylist.items)"
   ]
  },
  {
   "cell_type": "code",
   "execution_count": 17,
   "metadata": {},
   "outputs": [
    {
     "name": "stdout",
     "output_type": "stream",
     "text": [
      "[0, 1, 2, 3, 4, 5, 6, 7, 8, 9]\n",
      "[0, 1, 3, 2, 3, 4, 5, 6, 7, 8, 9, None, None, None, None, None, None, None, None, None]\n",
      "[0, 1, 3, 2, 3, 4, 5, 6, 7, 8, 9, None, None, None, None, None, None, None, None, None]\n"
     ]
    }
   ],
   "source": [
    "#1(ii)\n",
    "Mylist = PyList(list(range(10)),10)\n",
    "print(Mylist.items)\n",
    "Mylist.insert(2,3)\n",
    "print(Mylist.items)"
   ]
  },
  {
   "cell_type": "code",
   "execution_count": 14,
   "metadata": {},
   "outputs": [
    {
     "name": "stdout",
     "output_type": "stream",
     "text": [
      "[0, 1, 2, 3]\n",
      "[0, 1, 2, 3, 4, None, None, None]\n",
      "[1, 2, 3, 4, None, None, None, None]\n",
      "[2, 3, 4, None, None, None, None, None]\n",
      "[3, 4, None, None, None, None, None, None]\n",
      "[4, None, None, None]\n"
     ]
    }
   ],
   "source": [
    "#1(iii)\n",
    "Mylist = PyList(list(range(4)),4)\n",
    "print(Mylist.items)\n",
    "Mylist.append(4)\n",
    "print(Mylist.items)\n",
    "for i in range(4):\n",
    "    Mylist.delete(0)"
   ]
  },
  {
   "cell_type": "code",
   "execution_count": 18,
   "metadata": {},
   "outputs": [],
   "source": [
    "#2(i)\n",
    "class SPyList():\n",
    "    def __init__(self,contents=[],size=10):\n",
    "        self.items = [None] * size \n",
    "        self.keys = []\n",
    "        self.numItems = 0 \n",
    "        self.size = size\n",
    "        for e in contents:\n",
    "            self.append(e)\n",
    "            \n",
    "    def __contains__(self,item):\n",
    "        for i in range(self.numItems):\n",
    "            if self.items[i] == item: \n",
    "                return True\n",
    "        return False \n",
    "    \n",
    "    def __eq__(self,other):\n",
    "        if type(other) != type(self):\n",
    "            return False\n",
    "        if self.numItems != other.numItems: \n",
    "            return False\n",
    "        for i in range(self.numItems):\n",
    "            if self.items[i] != other.items[i]:\n",
    "                return False\n",
    "        return True\n",
    "    def __setitem__(self,index,val):\n",
    "        if index >= 0 and index < self.numItems:\n",
    "            self.items[index] = val\n",
    "            return\n",
    "        raise IndexError(\"PyList assignment index out of range\")\n",
    "    def __getitem__(self,index):\n",
    "        if index >= 0 and index < self.numItems:\n",
    "            return self.items[index]\n",
    "        raise IndexError(\"PyList index out of range\")\n",
    "    def append(self,item):\n",
    "        if(type(item)is not dict):\n",
    "            raise TypeError(\"Wrong type, dict type expected\")\n",
    "        if(item['key']in self.keys):\n",
    "            raise KeyError(\"This key already exists, try another one\") \n",
    "        if self.numItems == self.size:\n",
    "            self.allocate() \n",
    "        self.items[self.numItems] = item \n",
    "        self.numItems += 1\n",
    "        self.keys.append(item['key'])\n",
    "    def allocate(self):\n",
    "        newlength = 2 * self.size \n",
    "        newList = [None] * newlength \n",
    "        for i in range(self.numItems):\n",
    "            newList[i] = self.items[i] \n",
    "        self.items = newList\n",
    "        self.size = newlength\n",
    "    def insert(self,i,x):\n",
    "        if self.numItems == self.size:\n",
    "            self.allocate() \n",
    "        if i < self.numItems:\n",
    "            for j in range(self.numItems-1,i-1,-1): \n",
    "                self.items[j+1] = self.items[j]\n",
    "            self.items[i] = x\n",
    "            self.numItems += 1\n",
    "        else:\n",
    "            self.append(x)\n",
    "        print(self.items)\n",
    "    def delete(self,index):\n",
    "        if self.numItems == self.size / 4:\n",
    "            self.deallocate() # Just to make sure the list is efficiently used\n",
    "        if index < self.numItems:\n",
    "            for j in range(index,self.numItems): \n",
    "                self.items[j] = self.items[j+1]\n",
    "            self.numItems -= 1 \n",
    "            print(self.items)\n",
    "        else:\n",
    "            raise IndexError(\"PyList index out of range\")    \n",
    "    def deallocate(self):\n",
    "        newlength = int(self.size / 2 )\n",
    "        newList = [None] * newlength \n",
    "        for i in range(self.numItems):\n",
    "            newList[i] = self.items[i] \n",
    "        self.items = newList\n",
    "        self.size = newlength"
   ]
  },
  {
   "cell_type": "code",
   "execution_count": 20,
   "metadata": {},
   "outputs": [
    {
     "name": "stdout",
     "output_type": "stream",
     "text": [
      "[{'key': 1, 'A': 'a', 'X': 'x'}, {'key': 2, 'B': 'b', 'Y': 'y'}, {'key': 5, 'C': 'c', 'Z': 'z'}, None, None, None, None, None, None, None]\n"
     ]
    }
   ],
   "source": [
    "ma = SPyList([{'key':1,'A':'a','X':'x'},{'key':2,'B':'b','Y':'y'},{'key':5,'C':'c','Z':'z'}])\n",
    "print(ma.items)"
   ]
  },
  {
   "cell_type": "code",
   "execution_count": null,
   "metadata": {},
   "outputs": [],
   "source": []
  }
 ],
 "metadata": {
  "kernelspec": {
   "display_name": "Python 3",
   "language": "python",
   "name": "python3"
  },
  "language_info": {
   "codemirror_mode": {
    "name": "ipython",
    "version": 3
   },
   "file_extension": ".py",
   "mimetype": "text/x-python",
   "name": "python",
   "nbconvert_exporter": "python",
   "pygments_lexer": "ipython3",
   "version": "3.6.5"
  }
 },
 "nbformat": 4,
 "nbformat_minor": 2
}
